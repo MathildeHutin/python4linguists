{
  "nbformat": 4,
  "nbformat_minor": 0,
  "metadata": {
    "colab": {
      "name": "TP2_Data-types.ipynb",
      "provenance": []
    },
    "kernelspec": {
      "name": "python3",
      "display_name": "Python 3"
    },
    "language_info": {
      "name": "python"
    }
  },
  "cells": [
    {
      "cell_type": "markdown",
      "metadata": {
        "id": "QC1fNkH_09u1"
      },
      "source": [
        "# **TP2 Data Types and `if` Structure**\n",
        "## $\\color{blue}{\\text{Exercise 1 - Even or odd numbers? }}$\n",
        "Ask the user to enter a number then display whether it is even or odd? "
      ]
    },
    {
      "cell_type": "code",
      "metadata": {
        "id": "3jT3aaiuJ1iI"
      },
      "source": [
        "#1. TODO"
      ],
      "execution_count": null,
      "outputs": []
    },
    {
      "cell_type": "markdown",
      "metadata": {
        "id": "J4EcBWfwRJOq"
      },
      "source": [
        "## $\\color{blue}{\\text{Exercise 2 - Ticket prices }}$\n",
        "The price for visting a castle is as following:\n",
        "+  **free** for children between 0 and 11 years old\n",
        "+  **5 euros** for children between 12 and 17 years old and for adults over 60\n",
        "+  **10 euros** for adults (18-59)\n",
        "\n",
        "Write  a  program  that  asks  for  the  user’s  age  and  returns  the  price  charged."
      ]
    },
    {
      "cell_type": "code",
      "metadata": {
        "id": "PjMp6PHRRJyH"
      },
      "source": [
        "#2. TODO"
      ],
      "execution_count": null,
      "outputs": []
    },
    {
      "cell_type": "markdown",
      "metadata": {
        "id": "8bYTvmFvV0Cw"
      },
      "source": [
        "## $\\color{blue}{\\text{Exercise 3 - How much to pay employees? }}$\n",
        "Write a program to ask the user for hours and rate per hour to compute gross pay, give the employee **1.5 times** the hourly rate for hours worked above **40 hours**."
      ]
    },
    {
      "cell_type": "code",
      "metadata": {
        "id": "bnbcVNykWVuT"
      },
      "source": [
        "#3. TODO"
      ],
      "execution_count": null,
      "outputs": []
    },
    {
      "cell_type": "markdown",
      "metadata": {
        "id": "bZh9ob96RKK6"
      },
      "source": [
        "## $\\color{blue}{\\text{Exercise 4 - Which type? }}$\n",
        "Write a program to check the type of input that the user entered from the keyboard. \n",
        "\n",
        "$\\color{green}{\\text{Hints:}}$ \n",
        "+ `input()` function gets the user's input(which can be `str`,`int`,`float`... data) and returns always a string object. \n",
        "+ You can use `str()`,`int()` and `float()`functions in this exercice "
      ]
    },
    {
      "cell_type": "code",
      "metadata": {
        "id": "bUJN7pPLRQn6"
      },
      "source": [
        "user_input = input(\"Enter something:\")\n",
        "#TODO\n",
        "\n"
      ],
      "execution_count": null,
      "outputs": []
    },
    {
      "cell_type": "markdown",
      "metadata": {
        "id": "YovYCP5NX7qR"
      },
      "source": [
        "## $\\color{blue}{\\text{Exercise 5 - Handle Non-numeric Input }}$\n",
        "Rewrite your pay program of exercise 3 so that your program handles non-numeric input.\n"
      ]
    },
    {
      "cell_type": "code",
      "metadata": {
        "id": "ZThszs-0YL0T"
      },
      "source": [
        "#TODO"
      ],
      "execution_count": null,
      "outputs": []
    }
  ]
}